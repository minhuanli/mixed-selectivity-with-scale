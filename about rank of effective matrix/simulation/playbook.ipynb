{
 "cells": [
  {
   "cell_type": "markdown",
   "metadata": {
    "collapsed": true,
    "pycharm": {
     "name": "#%% md\n"
    }
   },
   "source": [
    "### Simulation Results about Rank in partial selectivity"
   ]
  },
  {
   "cell_type": "markdown",
   "source": [
    "1. About the input data\n",
    "\n",
    " - independent binary elements:  \n",
    " \n",
    "    $p\\left(x_{i}^{\\mu}=1\\right)=1 / 2, \\quad p\\left(x_{i}^{\\mu}=-1\\right)=1 / 2$\n",
    "\n",
    " - outputs are chosen randomly:\n",
    "\n",
    "    $p\\left(y^{\\mu}=1\\right)=1 / 2, \\quad p\\left(y^{\\mu}=-1\\right)=1 / 2$\n",
    "\n",
    " - Stimuli modality: \n",
    "\n",
    "    Dimension N, independent patterns P \n",
    "\n",
    " - Context modality:\n",
    "\n",
    "    Dimension M, independent patterns K\n",
    "\n",
    "2. About the normalized the random connection matrix:\n",
    "\n",
    "   $J  \\sim \\mathcal{N}\\left(0, \\frac{1}{\\mathcal{M} N_{m o d}}\\right)$\n",
    "   \n",
    "   The matrix $J^i$ projects input in a single modality $i$ to a vector in mixed layer with length $N_c/\\mathcal{P}$,\n",
    "   and mix with other modality projections, then pass a threshold.\n",
    "   \n",
    "   $\\mathcal{P}$ is the partition number \n",
    "   \n",
    "3. The partial mixing example: $N_m = 3$ , $\\mathcal{M} = 2$, $\\mathcal{P} = 2$\n",
    "\n",
    "    set stimuli modality is $\\epsilon$, two contexts modality is $\\eta$ and $\\sigma$\n",
    "\n",
    "    So for a input like $\\xi_\\mu = \\{\\epsilon_i,\\eta_j,\\sigma_k\\}$, the response on cortical layer is\n",
    "    \n",
    "    $\\left[\\begin{array}{c}\n",
    "    sign(J^\\epsilon\\epsilon_i+J^\\eta\\eta_j-\\theta) \\\\\n",
    "    sign(J^\\epsilon\\epsilon_i+J^\\sigma\\sigma_j-\\theta)\n",
    "    \\end{array}\\right]$\n",
    "    \n",
    "    keep the sparsity on the cortical layer is $f$"
   ],
   "metadata": {
    "collapsed": false
   }
  },
  {
   "cell_type": "code",
   "execution_count": 1,
   "outputs": [],
   "source": [
    "import numpy as np\n",
    "import matplotlib.pyplot as plt"
   ],
   "metadata": {
    "collapsed": false,
    "pycharm": {
     "name": "#%%\n",
     "is_executing": false
    }
   }
  },
  {
   "cell_type": "code",
   "execution_count": null,
   "outputs": [],
   "source": [
    "class random_mix(object):\n",
    "    \n",
    "    def __init__(self,Nm,N,M,P,K,m):\n",
    "        self.num_modality = Nm\n",
    "        self.dim_stimuli = N\n",
    "        self.dim_context = M\n",
    "        self.num_sti_sample = P\n",
    "        self.num_con_sample = K\n",
    "        self.mix_index = m\n"
   ],
   "metadata": {
    "collapsed": false,
    "pycharm": {
     "name": "#%%\n"
    }
   }
  }
 ],
 "metadata": {
  "kernelspec": {
   "display_name": "Python 3",
   "language": "python",
   "name": "python3"
  },
  "language_info": {
   "codemirror_mode": {
    "name": "ipython",
    "version": 2
   },
   "file_extension": ".py",
   "mimetype": "text/x-python",
   "name": "python",
   "nbconvert_exporter": "python",
   "pygments_lexer": "ipython2",
   "version": "2.7.6"
  },
  "pycharm": {
   "stem_cell": {
    "cell_type": "raw",
    "source": [],
    "metadata": {
     "collapsed": false
    }
   }
  }
 },
 "nbformat": 4,
 "nbformat_minor": 0
}